{
 "cells": [
  {
   "cell_type": "code",
   "execution_count": 1,
   "id": "900fbcf5",
   "metadata": {},
   "outputs": [],
   "source": [
    "import pandas as pd\n",
    "import numpy as np\n",
    "import matplotlib.pyplot as plt\n",
    "import seaborn as sns"
   ]
  },
  {
   "cell_type": "code",
   "execution_count": 2,
   "id": "f97ae107",
   "metadata": {},
   "outputs": [],
   "source": [
    "df=pd.read_csv('Youtube02-KatyPerry.csv')"
   ]
  },
  {
   "cell_type": "code",
   "execution_count": 5,
   "id": "11d4502e",
   "metadata": {},
   "outputs": [
    {
     "data": {
      "text/html": [
       "<div>\n",
       "<style scoped>\n",
       "    .dataframe tbody tr th:only-of-type {\n",
       "        vertical-align: middle;\n",
       "    }\n",
       "\n",
       "    .dataframe tbody tr th {\n",
       "        vertical-align: top;\n",
       "    }\n",
       "\n",
       "    .dataframe thead th {\n",
       "        text-align: right;\n",
       "    }\n",
       "</style>\n",
       "<table border=\"1\" class=\"dataframe\">\n",
       "  <thead>\n",
       "    <tr style=\"text-align: right;\">\n",
       "      <th></th>\n",
       "      <th>COMMENT_ID</th>\n",
       "      <th>AUTHOR</th>\n",
       "      <th>DATE</th>\n",
       "      <th>CONTENT</th>\n",
       "      <th>CLASS</th>\n",
       "    </tr>\n",
       "  </thead>\n",
       "  <tbody>\n",
       "    <tr>\n",
       "      <th>324</th>\n",
       "      <td>z13tf12gvt2owtxpl04ceprwxmqnxx5a2gs</td>\n",
       "      <td>Kwon Kee</td>\n",
       "      <td>2014-11-09T19:35:44</td>\n",
       "      <td>Hey yall its the real Kevin Hart, shout out to...</td>\n",
       "      <td>1</td>\n",
       "    </tr>\n",
       "    <tr>\n",
       "      <th>14</th>\n",
       "      <td>z13jtfwiuwrvy1tng23gid4hesqwxl4cm</td>\n",
       "      <td>Artady</td>\n",
       "      <td>2014-08-11T16:27:55</td>\n",
       "      <td>https://soundcloud.com/artady please check my ...</td>\n",
       "      <td>1</td>\n",
       "    </tr>\n",
       "    <tr>\n",
       "      <th>329</th>\n",
       "      <td>z131xnrwqtybhzilh22hipqauyuhvnlx104</td>\n",
       "      <td>Cem Devecioğlu devecioğlu</td>\n",
       "      <td>2014-11-10T16:14:20</td>\n",
       "      <td>Hii youtube﻿</td>\n",
       "      <td>0</td>\n",
       "    </tr>\n",
       "    <tr>\n",
       "      <th>182</th>\n",
       "      <td>z13gwfnb3pqgzhgmi221epogwszbhdcg104</td>\n",
       "      <td>alin silviu lazar</td>\n",
       "      <td>2014-10-05T15:13:27</td>\n",
       "      <td>http://www.googleadservices.com/pagead/aclk?sa...</td>\n",
       "      <td>1</td>\n",
       "    </tr>\n",
       "    <tr>\n",
       "      <th>245</th>\n",
       "      <td>z13oghdjnqzcftxwp04cdv0acx3msl5zbkc0k</td>\n",
       "      <td>ollie123216</td>\n",
       "      <td>2014-10-23T22:20:43</td>\n",
       "      <td>How do you forget you have a choice, and what ...</td>\n",
       "      <td>0</td>\n",
       "    </tr>\n",
       "    <tr>\n",
       "      <th>256</th>\n",
       "      <td>z12dynswht2rujq1e22xi5dappq1vrlh504</td>\n",
       "      <td>ali aydın</td>\n",
       "      <td>2014-10-25T16:59:02</td>\n",
       "      <td>I like you . Katy Perry 600▲60▲6▲﻿</td>\n",
       "      <td>0</td>\n",
       "    </tr>\n",
       "    <tr>\n",
       "      <th>252</th>\n",
       "      <td>z13mwftg2ozrfpmzm04cjpaxuqv0tpygyl00k</td>\n",
       "      <td>Brian Schultes</td>\n",
       "      <td>2014-10-25T01:53:36</td>\n",
       "      <td>this song never get's old &amp;lt;3 ﻿</td>\n",
       "      <td>0</td>\n",
       "    </tr>\n",
       "    <tr>\n",
       "      <th>152</th>\n",
       "      <td>z13ighawfwy5y5t5a04ccnp5dozetzfpq0g</td>\n",
       "      <td>Snipe Last</td>\n",
       "      <td>2014-09-22T19:34:46</td>\n",
       "      <td>why the elephant have a broken horn﻿</td>\n",
       "      <td>0</td>\n",
       "    </tr>\n",
       "    <tr>\n",
       "      <th>126</th>\n",
       "      <td>z12nj5gwruilz5a4y04cfdda2wfgz1lwecg</td>\n",
       "      <td>Chris Madzier</td>\n",
       "      <td>2014-09-16T22:50:28</td>\n",
       "      <td>Your going to hear me Roar !!!! :-))))   #soun...</td>\n",
       "      <td>0</td>\n",
       "    </tr>\n",
       "    <tr>\n",
       "      <th>221</th>\n",
       "      <td>z123ynxxyou1wrzri04cjh2buyfez5jjxcw</td>\n",
       "      <td>Brandon Tomlin</td>\n",
       "      <td>2014-10-17T18:34:08</td>\n",
       "      <td>Like my page please...  https://m.facebook.com...</td>\n",
       "      <td>1</td>\n",
       "    </tr>\n",
       "  </tbody>\n",
       "</table>\n",
       "</div>"
      ],
      "text/plain": [
       "                                COMMENT_ID                     AUTHOR  \\\n",
       "324    z13tf12gvt2owtxpl04ceprwxmqnxx5a2gs                   Kwon Kee   \n",
       "14       z13jtfwiuwrvy1tng23gid4hesqwxl4cm                     Artady   \n",
       "329    z131xnrwqtybhzilh22hipqauyuhvnlx104  Cem Devecioğlu devecioğlu   \n",
       "182    z13gwfnb3pqgzhgmi221epogwszbhdcg104          alin silviu lazar   \n",
       "245  z13oghdjnqzcftxwp04cdv0acx3msl5zbkc0k                ollie123216   \n",
       "256    z12dynswht2rujq1e22xi5dappq1vrlh504                  ali aydın   \n",
       "252  z13mwftg2ozrfpmzm04cjpaxuqv0tpygyl00k             Brian Schultes   \n",
       "152    z13ighawfwy5y5t5a04ccnp5dozetzfpq0g                 Snipe Last   \n",
       "126    z12nj5gwruilz5a4y04cfdda2wfgz1lwecg              Chris Madzier   \n",
       "221    z123ynxxyou1wrzri04cjh2buyfez5jjxcw             Brandon Tomlin   \n",
       "\n",
       "                    DATE                                            CONTENT  \\\n",
       "324  2014-11-09T19:35:44  Hey yall its the real Kevin Hart, shout out to...   \n",
       "14   2014-08-11T16:27:55  https://soundcloud.com/artady please check my ...   \n",
       "329  2014-11-10T16:14:20                                       Hii youtube﻿   \n",
       "182  2014-10-05T15:13:27  http://www.googleadservices.com/pagead/aclk?sa...   \n",
       "245  2014-10-23T22:20:43  How do you forget you have a choice, and what ...   \n",
       "256  2014-10-25T16:59:02                 I like you . Katy Perry 600▲60▲6▲﻿   \n",
       "252  2014-10-25T01:53:36                  this song never get's old &lt;3 ﻿   \n",
       "152  2014-09-22T19:34:46               why the elephant have a broken horn﻿   \n",
       "126  2014-09-16T22:50:28  Your going to hear me Roar !!!! :-))))   #soun...   \n",
       "221  2014-10-17T18:34:08  Like my page please...  https://m.facebook.com...   \n",
       "\n",
       "     CLASS  \n",
       "324      1  \n",
       "14       1  \n",
       "329      0  \n",
       "182      1  \n",
       "245      0  \n",
       "256      0  \n",
       "252      0  \n",
       "152      0  \n",
       "126      0  \n",
       "221      1  "
      ]
     },
     "execution_count": 5,
     "metadata": {},
     "output_type": "execute_result"
    }
   ],
   "source": [
    "df.sample(10)"
   ]
  },
  {
   "cell_type": "code",
   "execution_count": 4,
   "id": "5983ace0",
   "metadata": {},
   "outputs": [
    {
     "data": {
      "text/plain": [
       "array([1, 0], dtype=int64)"
      ]
     },
     "execution_count": 4,
     "metadata": {},
     "output_type": "execute_result"
    }
   ],
   "source": [
    "df['CLASS'].unique()"
   ]
  },
  {
   "cell_type": "markdown",
   "id": "52933c46",
   "metadata": {},
   "source": [
    "## TFIDF implementation "
   ]
  },
  {
   "cell_type": "code",
   "execution_count": 6,
   "id": "93a37014",
   "metadata": {},
   "outputs": [
    {
     "name": "stderr",
     "output_type": "stream",
     "text": [
      "[nltk_data] Downloading package stopwords to\n",
      "[nltk_data]     C:\\Users\\hp\\AppData\\Roaming\\nltk_data...\n",
      "[nltk_data]   Unzipping corpora\\stopwords.zip.\n"
     ]
    },
    {
     "data": {
      "text/plain": [
       "True"
      ]
     },
     "execution_count": 6,
     "metadata": {},
     "output_type": "execute_result"
    }
   ],
   "source": [
    "import re\n",
    "import nltk\n",
    "nltk.download('stopwords')"
   ]
  },
  {
   "cell_type": "code",
   "execution_count": 7,
   "id": "bcdf031a",
   "metadata": {},
   "outputs": [],
   "source": [
    "from nltk.corpus import stopwords\n",
    "from nltk.stem.porter import PorterStemmer\n",
    "ps = PorterStemmer()"
   ]
  },
  {
   "cell_type": "code",
   "execution_count": 8,
   "id": "e299679f",
   "metadata": {},
   "outputs": [],
   "source": [
    "from nltk.stem import WordNetLemmatizer\n",
    "lem = WordNetLemmatizer()"
   ]
  },
  {
   "cell_type": "code",
   "execution_count": 11,
   "id": "1d14d492",
   "metadata": {},
   "outputs": [
    {
     "name": "stderr",
     "output_type": "stream",
     "text": [
      "[nltk_data] Downloading package wordnet to\n",
      "[nltk_data]     C:\\Users\\hp\\AppData\\Roaming\\nltk_data...\n"
     ]
    },
    {
     "data": {
      "text/plain": [
       "True"
      ]
     },
     "execution_count": 11,
     "metadata": {},
     "output_type": "execute_result"
    }
   ],
   "source": [
    "import nltk\n",
    "nltk.download('wordnet')\n",
    "  "
   ]
  },
  {
   "cell_type": "code",
   "execution_count": 13,
   "id": "7f3a21a1",
   "metadata": {},
   "outputs": [
    {
     "name": "stderr",
     "output_type": "stream",
     "text": [
      "[nltk_data] Downloading package omw-1.4 to\n",
      "[nltk_data]     C:\\Users\\hp\\AppData\\Roaming\\nltk_data...\n"
     ]
    },
    {
     "data": {
      "text/plain": [
       "True"
      ]
     },
     "execution_count": 13,
     "metadata": {},
     "output_type": "execute_result"
    }
   ],
   "source": [
    "nltk.download('omw-1.4')"
   ]
  },
  {
   "cell_type": "code",
   "execution_count": 21,
   "id": "8feb9536",
   "metadata": {},
   "outputs": [
    {
     "data": {
      "text/plain": [
       "350"
      ]
     },
     "execution_count": 21,
     "metadata": {},
     "output_type": "execute_result"
    }
   ],
   "source": [
    "len(df)"
   ]
  },
  {
   "cell_type": "code",
   "execution_count": 24,
   "id": "e270d17a",
   "metadata": {},
   "outputs": [],
   "source": [
    "df['REVIEW']=None"
   ]
  },
  {
   "cell_type": "code",
   "execution_count": 27,
   "id": "aa37d423",
   "metadata": {},
   "outputs": [
    {
     "name": "stderr",
     "output_type": "stream",
     "text": [
      "C:\\Users\\hp\\AppData\\Local\\Temp\\ipykernel_13068\\3969240397.py:8: SettingWithCopyWarning: \n",
      "A value is trying to be set on a copy of a slice from a DataFrame\n",
      "\n",
      "See the caveats in the documentation: https://pandas.pydata.org/pandas-docs/stable/user_guide/indexing.html#returning-a-view-versus-a-copy\n",
      "  df['REVIEW'][i] = review\n"
     ]
    }
   ],
   "source": [
    "\n",
    "for i in range(0,len(df)):\n",
    "    review = re.sub('[^a-zA-Z0-9]',' ',df['CONTENT'][i])\n",
    "    review = review.lower()\n",
    "    review = review.split()\n",
    "    \n",
    "    review = [lem.lemmatize(word) for word in review if not word in stopwords.words('english')]\n",
    "    review = ' '.join(review)\n",
    "    df['REVIEW'][i] = review"
   ]
  },
  {
   "cell_type": "code",
   "execution_count": 42,
   "id": "0b253e0a",
   "metadata": {},
   "outputs": [
    {
     "data": {
      "text/plain": [
       "0      love much also generate free lead auto pilot a...\n",
       "1      http www billboard com article column pop shop...\n",
       "2      hey guy please join fight help abused mistreat...\n",
       "3                   http psnboss com ref 2tggp3pv6l song\n",
       "4      hey everyone watch trailer http believemefilm ...\n",
       "                             ...                        \n",
       "345    song mean much thank soooooooooooooooooooooooo...\n",
       "346                                                 lt 3\n",
       "347    katy perry cio cabelo decio hair 60 year age f...\n",
       "348    honestly speaking except taylor swift adele li...\n",
       "349                going reach billion first katy taylor\n",
       "Name: REVIEW, Length: 350, dtype: object"
      ]
     },
     "execution_count": 42,
     "metadata": {},
     "output_type": "execute_result"
    }
   ],
   "source": [
    "X=df['REVIEW']\n",
    "X"
   ]
  },
  {
   "cell_type": "code",
   "execution_count": 54,
   "id": "6de63b83",
   "metadata": {},
   "outputs": [],
   "source": [
    "## Bag of Words\n",
    "from sklearn.feature_extraction.text import CountVectorizer\n",
    "cv=CountVectorizer(max_features=1500)\n",
    "X = cv.fit_transform(X).toarray()"
   ]
  },
  {
   "cell_type": "code",
   "execution_count": 40,
   "id": "fb2344d2",
   "metadata": {},
   "outputs": [
    {
     "data": {
      "text/plain": [
       "(350, 1500)"
      ]
     },
     "execution_count": 40,
     "metadata": {},
     "output_type": "execute_result"
    }
   ],
   "source": [
    "X.shape"
   ]
  },
  {
   "cell_type": "code",
   "execution_count": 49,
   "id": "73b0be45",
   "metadata": {},
   "outputs": [],
   "source": [
    "y=pd.get_dummies(df['CLASS'])\n",
    "y=y.iloc[:,1].values"
   ]
  },
  {
   "cell_type": "code",
   "execution_count": 55,
   "id": "d3a1bd25",
   "metadata": {},
   "outputs": [],
   "source": [
    "# Train Test Split\n",
    "\n",
    "from sklearn.model_selection import train_test_split\n",
    "X_train, X_test, y_train, y_test = train_test_split(X, y, test_size = 0.20, random_state = 0)\n"
   ]
  },
  {
   "cell_type": "code",
   "execution_count": 56,
   "id": "37ba004e",
   "metadata": {},
   "outputs": [],
   "source": [
    "from sklearn.metrics import accuracy_score,classification_report"
   ]
  },
  {
   "cell_type": "code",
   "execution_count": 57,
   "id": "d72c99dd",
   "metadata": {},
   "outputs": [],
   "source": [
    "## Naive-Bayes\n",
    "from sklearn.naive_bayes import MultinomialNB\n",
    "spam_detect_model = MultinomialNB().fit(X_train, y_train)\n",
    "#prediction\n",
    "y_pred=spam_detect_model.predict(X_test)"
   ]
  },
  {
   "cell_type": "code",
   "execution_count": 58,
   "id": "f59827d6",
   "metadata": {},
   "outputs": [
    {
     "data": {
      "text/plain": [
       "0.9285714285714286"
      ]
     },
     "execution_count": 58,
     "metadata": {},
     "output_type": "execute_result"
    }
   ],
   "source": [
    "accuracy_score(y_test,y_pred)"
   ]
  },
  {
   "cell_type": "code",
   "execution_count": 59,
   "id": "b40e1765",
   "metadata": {},
   "outputs": [
    {
     "name": "stdout",
     "output_type": "stream",
     "text": [
      "              precision    recall  f1-score   support\n",
      "\n",
      "           0       0.92      0.94      0.93        36\n",
      "           1       0.94      0.91      0.93        34\n",
      "\n",
      "    accuracy                           0.93        70\n",
      "   macro avg       0.93      0.93      0.93        70\n",
      "weighted avg       0.93      0.93      0.93        70\n",
      "\n"
     ]
    }
   ],
   "source": [
    "from sklearn.metrics import classification_report\n",
    "print(classification_report(y_pred,y_test))"
   ]
  },
  {
   "cell_type": "markdown",
   "id": "6c2d7f91",
   "metadata": {},
   "source": [
    "## TFIDF Model\n"
   ]
  },
  {
   "cell_type": "code",
   "execution_count": 78,
   "id": "c94e307e",
   "metadata": {},
   "outputs": [],
   "source": [
    "from sklearn.feature_extraction.text import TfidfVectorizer\n",
    "tv = TfidfVectorizer(max_features=2000)\n",
    "X = tv.fit_transform(df['REVIEW']).toarray()"
   ]
  },
  {
   "cell_type": "code",
   "execution_count": 79,
   "id": "f88d15ad",
   "metadata": {},
   "outputs": [],
   "source": [
    "X_train, X_test, y_train, y_test = train_test_split(X, y, test_size = 0.20, random_state = 0)\n",
    "spam_detect_model = MultinomialNB().fit(X_train, y_train)\n",
    "y_pred=spam_detect_model.predict(X_test)"
   ]
  },
  {
   "cell_type": "code",
   "execution_count": 80,
   "id": "d0823e0c",
   "metadata": {},
   "outputs": [
    {
     "data": {
      "text/plain": [
       "0.9285714285714286"
      ]
     },
     "execution_count": 80,
     "metadata": {},
     "output_type": "execute_result"
    }
   ],
   "source": [
    "accuracy_score(y_test,y_pred)"
   ]
  },
  {
   "cell_type": "code",
   "execution_count": 81,
   "id": "b28f6dfa",
   "metadata": {},
   "outputs": [
    {
     "name": "stdout",
     "output_type": "stream",
     "text": [
      "              precision    recall  f1-score   support\n",
      "\n",
      "           0       0.92      0.94      0.93        36\n",
      "           1       0.94      0.91      0.93        34\n",
      "\n",
      "    accuracy                           0.93        70\n",
      "   macro avg       0.93      0.93      0.93        70\n",
      "weighted avg       0.93      0.93      0.93        70\n",
      "\n"
     ]
    }
   ],
   "source": [
    "print(classification_report(y_pred,y_test))"
   ]
  },
  {
   "cell_type": "markdown",
   "id": "42f7e466",
   "metadata": {},
   "source": [
    "## Word2Vec"
   ]
  },
  {
   "cell_type": "code",
   "execution_count": 82,
   "id": "1fcf3d5f",
   "metadata": {},
   "outputs": [
    {
     "name": "stdout",
     "output_type": "stream",
     "text": [
      "Requirement already satisfied: gensim in c:\\users\\hp\\anaconda3\\lib\\site-packages (4.3.0)\n",
      "Requirement already satisfied: smart-open>=1.8.1 in c:\\users\\hp\\anaconda3\\lib\\site-packages (from gensim) (5.2.1)\n",
      "Requirement already satisfied: scipy>=1.7.0 in c:\\users\\hp\\anaconda3\\lib\\site-packages (from gensim) (1.10.0)\n",
      "Requirement already satisfied: numpy>=1.18.5 in c:\\users\\hp\\anaconda3\\lib\\site-packages (from gensim) (1.23.5)\n",
      "Collecting FuzzyTM>=0.4.0\n",
      "  Downloading FuzzyTM-2.0.5-py3-none-any.whl (29 kB)\n",
      "Collecting pyfume\n",
      "  Downloading pyFUME-0.2.25-py3-none-any.whl (67 kB)\n",
      "     ---------------------------------------- 67.1/67.1 kB 1.8 MB/s eta 0:00:00\n",
      "Requirement already satisfied: pandas in c:\\users\\hp\\anaconda3\\lib\\site-packages (from FuzzyTM>=0.4.0->gensim) (1.5.3)\n",
      "Requirement already satisfied: python-dateutil>=2.8.1 in c:\\users\\hp\\anaconda3\\lib\\site-packages (from pandas->FuzzyTM>=0.4.0->gensim) (2.8.2)\n",
      "Requirement already satisfied: pytz>=2020.1 in c:\\users\\hp\\anaconda3\\lib\\site-packages (from pandas->FuzzyTM>=0.4.0->gensim) (2022.7)\n",
      "Collecting fst-pso\n",
      "  Downloading fst-pso-1.8.1.tar.gz (18 kB)\n",
      "  Preparing metadata (setup.py): started\n",
      "  Preparing metadata (setup.py): finished with status 'done'\n",
      "Collecting simpful\n",
      "  Downloading simpful-2.11.0-py3-none-any.whl (32 kB)\n",
      "Requirement already satisfied: six>=1.5 in c:\\users\\hp\\anaconda3\\lib\\site-packages (from python-dateutil>=2.8.1->pandas->FuzzyTM>=0.4.0->gensim) (1.16.0)\n",
      "Collecting miniful\n",
      "  Downloading miniful-0.0.6.tar.gz (2.8 kB)\n",
      "  Preparing metadata (setup.py): started\n",
      "  Preparing metadata (setup.py): finished with status 'done'\n",
      "Building wheels for collected packages: fst-pso, miniful\n",
      "  Building wheel for fst-pso (setup.py): started\n",
      "  Building wheel for fst-pso (setup.py): finished with status 'done'\n",
      "  Created wheel for fst-pso: filename=fst_pso-1.8.1-py3-none-any.whl size=20448 sha256=3c8aa67d12f488135c9c96e78809a503ed2cf54b337f32003ff8e0adf01b549f\n",
      "  Stored in directory: c:\\users\\hp\\appdata\\local\\pip\\cache\\wheels\\01\\02\\ee\\df0699282986903a384b69aab4413af9efd26b3612b5dccc9e\n",
      "  Building wheel for miniful (setup.py): started\n",
      "  Building wheel for miniful (setup.py): finished with status 'done'\n",
      "  Created wheel for miniful: filename=miniful-0.0.6-py3-none-any.whl size=3522 sha256=05bb05500863b627e1a80d7d41e35d214b07d79c2edafc2887e00a014e6e6a6c\n",
      "  Stored in directory: c:\\users\\hp\\appdata\\local\\pip\\cache\\wheels\\43\\aa\\48\\5c66b931ff013ad19774081aa19656637af5c0cc33b5494b30\n",
      "Successfully built fst-pso miniful\n",
      "Installing collected packages: simpful, miniful, fst-pso, pyfume, FuzzyTM\n",
      "Successfully installed FuzzyTM-2.0.5 fst-pso-1.8.1 miniful-0.0.6 pyfume-0.2.25 simpful-2.11.0\n"
     ]
    }
   ],
   "source": [
    "!pip install gensim"
   ]
  },
  {
   "cell_type": "code",
   "execution_count": 83,
   "id": "10548747",
   "metadata": {},
   "outputs": [
    {
     "name": "stdout",
     "output_type": "stream",
     "text": [
      "[=================================================-] 99.8% 1660.0/1662.8MB downloaded\n"
     ]
    }
   ],
   "source": [
    "import gensim.downloader as api\n",
    "\n",
    "wv = api.load('word2vec-google-news-300')"
   ]
  },
  {
   "cell_type": "code",
   "execution_count": 85,
   "id": "2fac2776",
   "metadata": {
    "scrolled": true
   },
   "outputs": [
    {
     "data": {
      "text/plain": [
       "array([-1.08886719e-01, -7.47070312e-02, -4.54101562e-02, -2.18200684e-03,\n",
       "        6.49414062e-02, -8.83789062e-02, -2.43164062e-01,  2.04101562e-01,\n",
       "        7.75146484e-03,  8.69140625e-02, -1.73828125e-01,  2.34375000e-01,\n",
       "       -1.09375000e-01,  2.83203125e-01, -6.05468750e-02,  1.19140625e-01,\n",
       "        2.29492188e-01,  1.09375000e-01, -3.68652344e-02, -2.58789062e-02,\n",
       "        9.52148438e-02,  2.51953125e-01,  5.59082031e-02,  5.00488281e-02,\n",
       "        3.80859375e-01,  4.51171875e-01, -2.35351562e-01,  1.28906250e-01,\n",
       "        5.83496094e-02, -3.90625000e-02, -3.37890625e-01,  5.21850586e-03,\n",
       "        2.43164062e-01, -1.26953125e-01,  1.75781250e-01,  8.74023438e-02,\n",
       "       -6.20117188e-02,  7.27539062e-02,  5.12695312e-02,  2.94189453e-02,\n",
       "        2.17285156e-02, -2.46093750e-01,  9.37500000e-02,  1.34765625e-01,\n",
       "       -1.02539062e-01,  6.73828125e-02, -3.63769531e-02,  5.20019531e-02,\n",
       "       -3.83300781e-02, -2.99072266e-02, -2.37304688e-01,  3.61328125e-01,\n",
       "        6.59179688e-02,  2.50000000e-01,  4.84375000e-01,  1.22070312e-01,\n",
       "       -2.69531250e-01, -1.58203125e-01, -9.91210938e-02, -8.93554688e-02,\n",
       "       -5.10253906e-02,  2.44140625e-01, -3.12500000e-01, -4.61425781e-02,\n",
       "       -4.51660156e-02,  1.11328125e-01,  4.82177734e-03, -4.46777344e-02,\n",
       "       -2.36328125e-01, -4.71191406e-02,  1.64062500e-01, -1.20605469e-01,\n",
       "        2.94189453e-02,  7.22656250e-02, -2.92968750e-01,  1.19140625e-01,\n",
       "        1.16210938e-01,  5.27343750e-02, -1.45874023e-02,  1.08398438e-01,\n",
       "       -1.73828125e-01, -4.32128906e-02, -1.85546875e-01,  1.50390625e-01,\n",
       "       -1.29882812e-01, -3.26171875e-01, -3.22265625e-02, -6.39648438e-02,\n",
       "        2.19726562e-01, -9.86328125e-02,  4.27246094e-02,  1.89453125e-01,\n",
       "        1.59179688e-01, -1.50390625e-01,  2.25585938e-01,  1.83593750e-01,\n",
       "        2.89062500e-01,  1.16210938e-01, -1.97753906e-02, -1.69921875e-01,\n",
       "        6.15234375e-02,  6.12792969e-02, -1.24511719e-01,  1.04980469e-02,\n",
       "        1.69921875e-01,  3.66210938e-02, -2.50000000e-01, -2.15820312e-01,\n",
       "       -1.77734375e-01, -1.53320312e-01,  1.05468750e-01,  1.02539062e-01,\n",
       "       -2.84423828e-02, -2.37304688e-01,  4.14062500e-01, -1.13281250e-01,\n",
       "        5.95703125e-02,  5.88378906e-02, -2.17773438e-01,  2.43164062e-01,\n",
       "        1.26953125e-01, -1.12304688e-01, -3.82812500e-01, -1.33789062e-01,\n",
       "       -4.00390625e-01, -1.21093750e-01, -1.13677979e-03,  2.95410156e-02,\n",
       "       -5.78613281e-02, -1.81640625e-01, -1.03027344e-01, -3.16406250e-01,\n",
       "       -2.30468750e-01, -3.75976562e-02,  5.46875000e-02, -4.17480469e-02,\n",
       "        1.29882812e-01,  1.63574219e-02,  3.63281250e-01, -2.44140625e-02,\n",
       "        1.20117188e-01,  1.11816406e-01,  8.49609375e-02, -3.10546875e-01,\n",
       "       -1.54296875e-01, -1.87500000e-01,  7.22656250e-02, -2.94921875e-01,\n",
       "        5.39062500e-01, -1.08642578e-02,  1.76757812e-01, -6.64062500e-02,\n",
       "        7.56835938e-02,  2.17773438e-01, -5.59082031e-02, -1.49414062e-01,\n",
       "        1.91406250e-01,  2.16796875e-01,  1.97753906e-02, -4.76074219e-02,\n",
       "       -1.71875000e-01,  7.59124756e-04,  1.07910156e-01,  1.63085938e-01,\n",
       "        2.11914062e-01, -5.39550781e-02, -1.60156250e-01, -1.83593750e-01,\n",
       "        4.19921875e-02, -1.48437500e-01, -2.23632812e-01, -7.71484375e-02,\n",
       "        3.08227539e-03, -2.02148438e-01, -1.09863281e-01,  1.77734375e-01,\n",
       "        8.74023438e-02, -4.73632812e-02, -4.56542969e-02, -2.53906250e-01,\n",
       "       -1.34765625e-01, -3.39843750e-01,  1.78710938e-01, -1.89453125e-01,\n",
       "       -1.00097656e-01,  2.13623047e-02, -2.23632812e-01, -1.19628906e-01,\n",
       "        1.03515625e-01,  2.73437500e-02, -1.66015625e-01,  1.84570312e-01,\n",
       "        3.80859375e-02, -1.07910156e-01, -1.41601562e-01, -1.40625000e-01,\n",
       "        1.95312500e-02, -2.63671875e-01,  2.17773438e-01, -6.20117188e-02,\n",
       "        1.05468750e-01, -3.66210938e-03, -1.95312500e-01,  2.91015625e-01,\n",
       "       -5.51757812e-02, -6.86645508e-03, -1.65039062e-01,  2.01171875e-01,\n",
       "        9.42382812e-02,  2.00195312e-01, -2.39257812e-01, -2.02636719e-02,\n",
       "        4.78515625e-02,  1.58203125e-01, -1.18164062e-01,  9.66796875e-02,\n",
       "        2.55859375e-01,  1.23046875e-01,  7.86132812e-02,  3.44238281e-02,\n",
       "       -1.36108398e-02,  1.02539062e-02, -8.39843750e-02,  3.63769531e-02,\n",
       "        5.22460938e-02, -1.56250000e-02, -7.76367188e-02,  8.10546875e-02,\n",
       "        1.44653320e-02,  6.95800781e-03,  1.45507812e-01, -7.03125000e-02,\n",
       "        9.03320312e-02, -1.21093750e-01,  7.95898438e-02, -6.25000000e-02,\n",
       "       -8.74023438e-02,  5.41992188e-02, -3.82812500e-01,  2.41210938e-01,\n",
       "        2.33398438e-01,  1.66015625e-01, -2.51464844e-02, -1.16210938e-01,\n",
       "        7.12890625e-02, -3.29971313e-04,  3.90625000e-02, -3.78417969e-02,\n",
       "       -1.41601562e-01, -1.89453125e-01, -3.14453125e-01,  2.67578125e-01,\n",
       "        2.10937500e-01,  3.51562500e-01, -2.53906250e-01, -2.08007812e-01,\n",
       "        1.90429688e-02,  3.88183594e-02, -9.57031250e-02,  5.20019531e-02,\n",
       "       -8.88671875e-02,  1.39770508e-02, -9.08203125e-02, -1.29882812e-01,\n",
       "        1.94335938e-01, -1.25000000e-01, -1.04003906e-01, -1.65039062e-01,\n",
       "       -1.94091797e-02,  3.97949219e-02, -3.00781250e-01,  1.64062500e-01,\n",
       "        8.59375000e-02, -6.10351562e-02,  5.19531250e-01,  7.27539062e-02,\n",
       "       -6.29882812e-02, -9.66796875e-02,  4.07714844e-02,  1.89453125e-01,\n",
       "       -7.37304688e-02,  1.25976562e-01,  4.61425781e-02,  1.32812500e-01,\n",
       "       -1.14746094e-02, -2.64892578e-02, -1.47460938e-01,  8.54492188e-02,\n",
       "       -1.78710938e-01,  4.00390625e-01,  1.51367188e-01,  6.49414062e-02,\n",
       "       -1.20605469e-01,  9.37500000e-02, -4.32128906e-02, -1.75781250e-01,\n",
       "       -7.61718750e-02, -3.59375000e-01,  4.85839844e-02,  1.61132812e-01],\n",
       "      dtype=float32)"
      ]
     },
     "execution_count": 85,
     "metadata": {},
     "output_type": "execute_result"
    }
   ],
   "source": [
    "wv['Good']"
   ]
  },
  {
   "cell_type": "code",
   "execution_count": 87,
   "id": "89747b0f",
   "metadata": {},
   "outputs": [
    {
     "data": {
      "text/plain": [
       "[('great', 0.7291510105133057),\n",
       " ('bad', 0.7190050482749939),\n",
       " ('terrific', 0.6889114379882812),\n",
       " ('decent', 0.6837348937988281),\n",
       " ('nice', 0.6836092472076416),\n",
       " ('excellent', 0.6442928910255432),\n",
       " ('fantastic', 0.6407778263092041),\n",
       " ('better', 0.6120728850364685),\n",
       " ('solid', 0.5806034803390503),\n",
       " ('lousy', 0.5764201879501343)]"
      ]
     },
     "execution_count": 87,
     "metadata": {},
     "output_type": "execute_result"
    }
   ],
   "source": [
    "wv.most_similar('good')"
   ]
  },
  {
   "cell_type": "code",
   "execution_count": null,
   "id": "5ed6d668",
   "metadata": {},
   "outputs": [],
   "source": []
  },
  {
   "cell_type": "code",
   "execution_count": null,
   "id": "837496cd",
   "metadata": {},
   "outputs": [],
   "source": []
  }
 ],
 "metadata": {
  "kernelspec": {
   "display_name": "Python 3 (ipykernel)",
   "language": "python",
   "name": "python3"
  },
  "language_info": {
   "codemirror_mode": {
    "name": "ipython",
    "version": 3
   },
   "file_extension": ".py",
   "mimetype": "text/x-python",
   "name": "python",
   "nbconvert_exporter": "python",
   "pygments_lexer": "ipython3",
   "version": "3.10.9"
  }
 },
 "nbformat": 4,
 "nbformat_minor": 5
}
